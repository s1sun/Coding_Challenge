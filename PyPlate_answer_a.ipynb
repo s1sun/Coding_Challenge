{
 "cells": [
  {
   "cell_type": "markdown",
   "id": "c15277ff-f68c-4cd7-9848-aab32c22a6e4",
   "metadata": {},
   "source": [
    "PyPlate Recipe for High-Throughput Cross-Coupling Reaction Screening"
   ]
  },
  {
   "cell_type": "code",
   "execution_count": 1,
   "id": "42090894-cb95-4fcf-87c6-3018eab39ba4",
   "metadata": {},
   "outputs": [],
   "source": [
    "%matplotlib inline\n",
    "\n",
    "import pyplate\n",
    "import pandas as pd\n",
    "import numpy as np"
   ]
  },
  {
   "cell_type": "markdown",
   "id": "2ee7151d-f8e8-410a-b041-79fce7279ea4",
   "metadata": {},
   "source": [
    "Setting up the random number generator for reproducibility"
   ]
  },
  {
   "cell_type": "code",
   "execution_count": 2,
   "id": "9bbad833-d441-4aa2-98bd-e98075fcf658",
   "metadata": {},
   "outputs": [],
   "source": [
    "np.random.seed(42)"
   ]
  },
  {
   "cell_type": "markdown",
   "id": "12bac105-64ba-473b-8c5c-687180fcecf4",
   "metadata": {},
   "source": [
    "Defining the parameters of the experiment"
   ]
  },
  {
   "cell_type": "code",
   "execution_count": 3,
   "id": "a917eb53-5d1d-42b0-8382-8067c0063b1f",
   "metadata": {},
   "outputs": [],
   "source": [
    "temperatures = [60, 80]  # in °C\n",
    "solvents = ['toluene', 'glyme', 'TBME', 'dichloroethane']\n",
    "ligands = ['XPhos', 'SPhos', 'dppf']\n",
    "reactions = list(range(1, 13))"
   ]
  },
  {
   "cell_type": "markdown",
   "id": "c9655600-767d-4522-aa8f-6ae1da0e816a",
   "metadata": {},
   "source": [
    "Defining molecular weights for Ai and Bi using a random number generator\n",
    "\n",
    "These molecular weights are for illustration purposes"
   ]
  },
  {
   "cell_type": "code",
   "execution_count": 4,
   "id": "1e286a79-9cd6-489a-8f1b-efb7b77f8bcb",
   "metadata": {},
   "outputs": [],
   "source": [
    "Ai_molecular_weights = np.random.uniform(100, 300, size=len(reactions))\n",
    "Bi_molecular_weights = np.random.uniform(100, 300, size=len(reactions))"
   ]
  },
  {
   "cell_type": "markdown",
   "id": "4d04a5e8-1e59-4da5-94f7-8be50dd2e0ad",
   "metadata": {},
   "source": [
    "Real molecular weights for other reagents"
   ]
  },
  {
   "cell_type": "code",
   "execution_count": 5,
   "id": "253c9734-84e0-4a7f-a7d4-782eea7e607c",
   "metadata": {},
   "outputs": [],
   "source": [
    "PdOAc2_molecular_weight = 224.5  # g/mol\n",
    "ligand_molecular_weights = {'XPhos': 467.1, 'SPhos': 425.3, 'dppf': 745.6}"
   ]
  },
  {
   "cell_type": "markdown",
   "id": "c8125b39-281d-4701-a663-67df1283b3bf",
   "metadata": {},
   "source": [
    "Experimental setup"
   ]
  },
  {
   "cell_type": "code",
   "execution_count": 6,
   "id": "767b02e1-db8c-409d-8928-3565be1bb801",
   "metadata": {},
   "outputs": [],
   "source": [
    "experiments = []\n",
    "\n",
    "for temp in temperatures:\n",
    "    for solvent in solvents:\n",
    "        for ligand in ligands:\n",
    "            for i, (Ai_mw, Bi_mw) in enumerate(zip(Ai_molecular_weights, Bi_molecular_weights), start=1):\n",
    "                experiment = {\n",
    "                    'Reaction': f'R{i}',\n",
    "                    'Temperature (°C)': temp,\n",
    "                    'Solvent': solvent,\n",
    "                    'Ligand': ligand,\n",
    "                    'Ai (mmol)': 0.1,\n",
    "                    'Ai (mg)': 0.1 * Ai_mw,\n",
    "                    'Bi (mmol)': 0.1 * 1.1,\n",
    "                    'Bi (mg)': 0.1 * 1.1 * Bi_mw,\n",
    "                    'Pd(OAc)2 (mmol)': 0.1 * 0.1,\n",
    "                    'Pd(OAc)2 (mg)': 0.1 * 0.1 * PdOAc2_molecular_weight,\n",
    "                    'Ligand (mmol)': 0.1 * 0.15,\n",
    "                    'Ligand (mg)': 0.1 * 0.15 * ligand_molecular_weights[ligand],\n",
    "                    'Total Volume (uL)': 200\n",
    "                }\n",
    "                experiments.append(experiment)"
   ]
  },
  {
   "cell_type": "markdown",
   "id": "7374fe43-9256-4487-a57a-b6815dda4bb1",
   "metadata": {},
   "source": [
    "Creating a DataFrame for visualization and experiment layout"
   ]
  },
  {
   "cell_type": "code",
   "execution_count": 7,
   "id": "4cbebd0e-5564-4da9-84e7-1dc2173255db",
   "metadata": {},
   "outputs": [],
   "source": [
    "df = pd.DataFrame(experiments)"
   ]
  },
  {
   "cell_type": "markdown",
   "id": "422af2ce-6202-4495-8c7e-c796afe8ce6e",
   "metadata": {},
   "source": [
    "Save the DataFrame for reference"
   ]
  },
  {
   "cell_type": "code",
   "execution_count": 8,
   "id": "6e4e5e33-6ed9-4abe-8f46-93bcaee846d9",
   "metadata": {},
   "outputs": [
    {
     "data": {
      "text/html": [
       "<div>\n",
       "<style scoped>\n",
       "    .dataframe tbody tr th:only-of-type {\n",
       "        vertical-align: middle;\n",
       "    }\n",
       "\n",
       "    .dataframe tbody tr th {\n",
       "        vertical-align: top;\n",
       "    }\n",
       "\n",
       "    .dataframe thead th {\n",
       "        text-align: right;\n",
       "    }\n",
       "</style>\n",
       "<table border=\"1\" class=\"dataframe\">\n",
       "  <thead>\n",
       "    <tr style=\"text-align: right;\">\n",
       "      <th></th>\n",
       "      <th>Reaction</th>\n",
       "      <th>Temperature (°C)</th>\n",
       "      <th>Solvent</th>\n",
       "      <th>Ligand</th>\n",
       "      <th>Ai (mmol)</th>\n",
       "      <th>Ai (mg)</th>\n",
       "      <th>Bi (mmol)</th>\n",
       "      <th>Bi (mg)</th>\n",
       "      <th>Pd(OAc)2 (mmol)</th>\n",
       "      <th>Pd(OAc)2 (mg)</th>\n",
       "      <th>Ligand (mmol)</th>\n",
       "      <th>Ligand (mg)</th>\n",
       "      <th>Total Volume (uL)</th>\n",
       "    </tr>\n",
       "  </thead>\n",
       "  <tbody>\n",
       "    <tr>\n",
       "      <th>0</th>\n",
       "      <td>R1</td>\n",
       "      <td>60</td>\n",
       "      <td>toluene</td>\n",
       "      <td>XPhos</td>\n",
       "      <td>0.1</td>\n",
       "      <td>17.490802</td>\n",
       "      <td>0.11</td>\n",
       "      <td>29.313738</td>\n",
       "      <td>0.01</td>\n",
       "      <td>2.245</td>\n",
       "      <td>0.015</td>\n",
       "      <td>7.0065</td>\n",
       "      <td>200</td>\n",
       "    </tr>\n",
       "    <tr>\n",
       "      <th>1</th>\n",
       "      <td>R2</td>\n",
       "      <td>60</td>\n",
       "      <td>toluene</td>\n",
       "      <td>XPhos</td>\n",
       "      <td>0.1</td>\n",
       "      <td>29.014286</td>\n",
       "      <td>0.11</td>\n",
       "      <td>15.671460</td>\n",
       "      <td>0.01</td>\n",
       "      <td>2.245</td>\n",
       "      <td>0.015</td>\n",
       "      <td>7.0065</td>\n",
       "      <td>200</td>\n",
       "    </tr>\n",
       "    <tr>\n",
       "      <th>2</th>\n",
       "      <td>R3</td>\n",
       "      <td>60</td>\n",
       "      <td>toluene</td>\n",
       "      <td>XPhos</td>\n",
       "      <td>0.1</td>\n",
       "      <td>24.639879</td>\n",
       "      <td>0.11</td>\n",
       "      <td>15.000149</td>\n",
       "      <td>0.01</td>\n",
       "      <td>2.245</td>\n",
       "      <td>0.015</td>\n",
       "      <td>7.0065</td>\n",
       "      <td>200</td>\n",
       "    </tr>\n",
       "    <tr>\n",
       "      <th>3</th>\n",
       "      <td>R4</td>\n",
       "      <td>60</td>\n",
       "      <td>toluene</td>\n",
       "      <td>XPhos</td>\n",
       "      <td>0.1</td>\n",
       "      <td>21.973170</td>\n",
       "      <td>0.11</td>\n",
       "      <td>15.034899</td>\n",
       "      <td>0.01</td>\n",
       "      <td>2.245</td>\n",
       "      <td>0.015</td>\n",
       "      <td>7.0065</td>\n",
       "      <td>200</td>\n",
       "    </tr>\n",
       "    <tr>\n",
       "      <th>4</th>\n",
       "      <td>R5</td>\n",
       "      <td>60</td>\n",
       "      <td>toluene</td>\n",
       "      <td>XPhos</td>\n",
       "      <td>0.1</td>\n",
       "      <td>13.120373</td>\n",
       "      <td>0.11</td>\n",
       "      <td>17.693329</td>\n",
       "      <td>0.01</td>\n",
       "      <td>2.245</td>\n",
       "      <td>0.015</td>\n",
       "      <td>7.0065</td>\n",
       "      <td>200</td>\n",
       "    </tr>\n",
       "  </tbody>\n",
       "</table>\n",
       "</div>"
      ],
      "text/plain": [
       "  Reaction  Temperature (°C)  Solvent Ligand  Ai (mmol)    Ai (mg)  Bi (mmol)  \\\n",
       "0       R1                60  toluene  XPhos        0.1  17.490802       0.11   \n",
       "1       R2                60  toluene  XPhos        0.1  29.014286       0.11   \n",
       "2       R3                60  toluene  XPhos        0.1  24.639879       0.11   \n",
       "3       R4                60  toluene  XPhos        0.1  21.973170       0.11   \n",
       "4       R5                60  toluene  XPhos        0.1  13.120373       0.11   \n",
       "\n",
       "     Bi (mg)  Pd(OAc)2 (mmol)  Pd(OAc)2 (mg)  Ligand (mmol)  Ligand (mg)  \\\n",
       "0  29.313738             0.01          2.245          0.015       7.0065   \n",
       "1  15.671460             0.01          2.245          0.015       7.0065   \n",
       "2  15.000149             0.01          2.245          0.015       7.0065   \n",
       "3  15.034899             0.01          2.245          0.015       7.0065   \n",
       "4  17.693329             0.01          2.245          0.015       7.0065   \n",
       "\n",
       "   Total Volume (uL)  \n",
       "0                200  \n",
       "1                200  \n",
       "2                200  \n",
       "3                200  \n",
       "4                200  "
      ]
     },
     "execution_count": 8,
     "metadata": {},
     "output_type": "execute_result"
    }
   ],
   "source": [
    "df.to_csv('experimental_design.csv', index=False)\n",
    "\n",
    "df.head()"
   ]
  },
  {
   "cell_type": "code",
   "execution_count": null,
   "id": "4f547f5c-27de-49ff-8551-916dd1fee570",
   "metadata": {},
   "outputs": [],
   "source": []
  }
 ],
 "metadata": {
  "kernelspec": {
   "display_name": "Python 3 (ipykernel)",
   "language": "python",
   "name": "python3"
  },
  "language_info": {
   "codemirror_mode": {
    "name": "ipython",
    "version": 3
   },
   "file_extension": ".py",
   "mimetype": "text/x-python",
   "name": "python",
   "nbconvert_exporter": "python",
   "pygments_lexer": "ipython3",
   "version": "3.11.7"
  }
 },
 "nbformat": 4,
 "nbformat_minor": 5
}
