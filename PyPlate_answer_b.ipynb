{
 "cells": [
  {
   "cell_type": "markdown",
   "id": "ac03a4f0-03fe-46f4-9756-dc31b76b017a",
   "metadata": {},
   "source": [
    "## Modifying PyPlate to Incorporate Relative Quantities\n",
    "To incorporate the concept of tags and relative quantities in PyPlate, we need to modify several parts of the PyPlate API. Here are the proposed changes to the docstrings and API behavior:\n",
    "\n",
    "Substance Class: Modify to include tags.\n",
    "\n",
    "Transfer Method: Modify to handle relative quantities using tags.\n",
    "\n",
    "Quantity Validation: Ensure quantities are pgysically reasonable.\n",
    "1. Modify Substance Class"
   ]
  },
  {
   "cell_type": "code",
   "execution_count": 1,
   "id": "3399d8cc-e610-48ff-a182-4aa09328a5e3",
   "metadata": {},
   "outputs": [],
   "source": [
    "class Substance:\n",
    "    \"\"\"\n",
    "    Represents a chemical substance with properties and tags.\n",
    "    \n",
    "    Attributes:\n",
    "        name (str): The name of the substance.\n",
    "        molecular_weight (float): The molecular weight of the substance.\n",
    "        quantity (float): The quantity of the substance in mmol.\n",
    "        tags (list of str): List of tags associated with the substance, e.g.,['A', 'ligand'].\n",
    "    \"\"\"\n",
    "    def __init__(self, name, molecular_weight, quantity, tags=None):\n",
    "        self.name = name\n",
    "        self.molecular_weight = molecular_weight\n",
    "        self.quantity = quantity\n",
    "        self.tags = tags if tags is not None else []"
   ]
  },
  {
   "cell_type": "markdown",
   "id": "805d9bb6-7210-4c7e-bde0-ac2cc36bfecd",
   "metadata": {},
   "source": [
    "2. Modify Transfer Method from Recipe"
   ]
  },
  {
   "cell_type": "code",
   "execution_count": 4,
   "id": "00a930e3-3818-4a58-b9c0-7feb123f1563",
   "metadata": {},
   "outputs": [],
   "source": [
    "def transfer(source, target, quantity):\n",
    "    \"\"\"\n",
    "    Transfers a substance from the source to the target container.\n",
    "\n",
    "    parametes:\n",
    "    ----------\n",
    "    source : Container\n",
    "        The container to transfer the substance from.\n",
    "    target : Container\n",
    "        The container to transfer the substance to.\n",
    "    quantity : str or float\n",
    "        The quantity to transfer. If a string, it can specify a relative quantity,\n",
    "        e.g., '1.1 * A'. The method will parse this and compute the actual quantity\n",
    "        based on the tag specified.\n",
    "    \n",
    "    Raises:\n",
    "    ------\n",
    "    ValueError\n",
    "        If the quantity is not physically reasonable or if the tag is not found.\n",
    "    \"\"\"\n",
    "    if isinstance(quantity, str):\n",
    "        # Parse relative quntity\n",
    "        factor, tag = quantity.split('*')\n",
    "        factor = float(factor.strip())\n",
    "\n",
    "        # Find the substance with the given tag in the source container\n",
    "        substance = next((s for s in source.substances if tag.strip() in s.tags), None)\n",
    "        if not substance:\n",
    "            raise ValueError(f\"Tag {tag.strip()} not found in source container.\")\n",
    "\n",
    "        # Calculate the actual quantity\n",
    "        quantity = factor * substance.quantity\n",
    "        \n",
    "    # Ensure the quantity is physically reasonable\n",
    "    if quantity <= 0 or quantity > source.remain_volume:\n",
    "        raise ValueError(\"Quantity is not physically reasonable.\")\n",
    "    \n",
    "    # Perform the transfer\n",
    "    target.add_substance(substance, quantity)\n",
    "    source.remove_substance(substance, quantity)"
   ]
  },
  {
   "cell_type": "markdown",
   "id": "87d9cf57-7739-4588-b203-aa918592c92b",
   "metadata": {},
   "source": [
    "3. Quantity Validation\n",
    "\n",
    "Ensure the quantity transferred is within the physically reasonable limits of the source and target containers.\n",
    "\n",
    "Docstring Modifications required:\n",
    "\n",
    "Ensuring Physical Reasonability:\r\n",
    "   1. Quantity should be positive: Ensures we are transferring a positive amount.\r\n",
    "   2. Quantity should not exceed remaining volume: Ensures we are not transferring more than available.\r\n",
    "   3. Quantity should not exceed container capacity: Ensures the target container can hold the transferred substance.\r\n",
    "\r\n",
    "Constraints:\r\n",
    "   1. Capacity Constraints: Ensure that the volume of substances in any container does not exceed its maximum capacity.\r\n",
    "   2. Tag Constraints: Ensure that each tag uniquely identifies a substance or a group of substances.\r\n",
    "\r\n",
    "This approach keeps the API changes minimal while providing flexibility for users to specify relative quantities in their recipes. The validation ensures that the operations remain within practical and safe limits.\r\n"
   ]
  },
  {
   "cell_type": "code",
   "execution_count": null,
   "id": "58616aca-fb46-4c12-8a12-dcf1929de163",
   "metadata": {},
   "outputs": [],
   "source": []
  }
 ],
 "metadata": {
  "kernelspec": {
   "display_name": "Python 3 (ipykernel)",
   "language": "python",
   "name": "python3"
  },
  "language_info": {
   "codemirror_mode": {
    "name": "ipython",
    "version": 3
   },
   "file_extension": ".py",
   "mimetype": "text/x-python",
   "name": "python",
   "nbconvert_exporter": "python",
   "pygments_lexer": "ipython3",
   "version": "3.11.7"
  }
 },
 "nbformat": 4,
 "nbformat_minor": 5
}
